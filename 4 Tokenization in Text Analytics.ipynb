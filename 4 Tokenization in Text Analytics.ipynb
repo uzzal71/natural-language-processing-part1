{
 "cells": [
  {
   "cell_type": "markdown",
   "metadata": {},
   "source": [
    "# Tokenization\n",
    "+ Word\n",
    "+ Sentence\n",
    "+ White Space\n",
    "+ Punctuation"
   ]
  },
  {
   "cell_type": "code",
   "execution_count": 3,
   "metadata": {},
   "outputs": [],
   "source": [
    "import nltk"
   ]
  },
  {
   "cell_type": "code",
   "execution_count": 6,
   "metadata": {},
   "outputs": [
    {
     "data": {
      "text/plain": [
       "'NLTK Team'"
      ]
     },
     "execution_count": 6,
     "metadata": {},
     "output_type": "execute_result"
    }
   ],
   "source": [
    "nltk.__author__"
   ]
  },
  {
   "cell_type": "code",
   "execution_count": 10,
   "metadata": {},
   "outputs": [
    {
     "name": "stderr",
     "output_type": "stream",
     "text": [
      "[nltk_data] Downloading package punkt to\n",
      "[nltk_data]     /home/uzzal/snap/jupyter/6/nltk_data...\n",
      "[nltk_data]   Unzipping tokenizers/punkt.zip.\n"
     ]
    },
    {
     "data": {
      "text/plain": [
       "True"
      ]
     },
     "execution_count": 10,
     "metadata": {},
     "output_type": "execute_result"
    }
   ],
   "source": [
    "import ssl\n",
    "ssl._create_default_https_context = ssl._create_unverified_context\n",
    "nltk.download('punkt')"
   ]
  },
  {
   "cell_type": "markdown",
   "metadata": {},
   "source": [
    "# Sentence Tokenization"
   ]
  },
  {
   "cell_type": "code",
   "execution_count": 8,
   "metadata": {},
   "outputs": [],
   "source": [
    "from nltk.tokenize import sent_tokenize"
   ]
  },
  {
   "cell_type": "code",
   "execution_count": 5,
   "metadata": {},
   "outputs": [],
   "source": [
    "text=\"Department of Computer Science and Engineering of NUB, started its academic activities from September 26, 1999 with the aim of quality education as well as cutting edge researches in the branches of Computer Science and Engineering. The department regularly offers postgraduate (M.Sc. and Ph.D.) and undergraduate (B.Sc.) programs. Only top ranked brilliant students are enrolled in this department through a competitive admission test. At present, yearly intake of this department is around 160 including 120 fixed undergraduate intakes. The department has well equipped different laboratories and a System Development Centre to increase the expertise of students practically along with theoretical knowledge.\""
   ]
  },
  {
   "cell_type": "code",
   "execution_count": 6,
   "metadata": {},
   "outputs": [
    {
     "data": {
      "text/plain": [
       "'Department of Computer Science and Engineering of NUB, started its academic activities from September 26, 1999 with the aim of quality education as well as cutting edge researches in the branches of Computer Science and Engineering. The department regularly offers postgraduate (M.Sc. and Ph.D.) and undergraduate (B.Sc.) programs. Only top ranked brilliant students are enrolled in this department through a competitive admission test. At present, yearly intake of this department is around 160 including 120 fixed undergraduate intakes. The department has well equipped different laboratories and a System Development Centre to increase the expertise of students practically along with theoretical knowledge.'"
      ]
     },
     "execution_count": 6,
     "metadata": {},
     "output_type": "execute_result"
    }
   ],
   "source": [
    "text"
   ]
  },
  {
   "cell_type": "code",
   "execution_count": 9,
   "metadata": {},
   "outputs": [
    {
     "data": {
      "text/plain": [
       "['Department of Computer Science and Engineering of NUB, started its academic activities from September 26, 1999 with the aim of quality education as well as cutting edge researches in the branches of Computer Science and Engineering.',\n",
       " 'The department regularly offers postgraduate (M.Sc.',\n",
       " 'and Ph.D.) and undergraduate (B.Sc.)',\n",
       " 'programs.',\n",
       " 'Only top ranked brilliant students are enrolled in this department through a competitive admission test.',\n",
       " 'At present, yearly intake of this department is around 160 including 120 fixed undergraduate intakes.',\n",
       " 'The department has well equipped different laboratories and a System Development Centre to increase the expertise of students practically along with theoretical knowledge.']"
      ]
     },
     "execution_count": 9,
     "metadata": {},
     "output_type": "execute_result"
    }
   ],
   "source": [
    "sent_tokenize(text)"
   ]
  },
  {
   "cell_type": "markdown",
   "metadata": {},
   "source": [
    "# Word Tokenization"
   ]
  },
  {
   "cell_type": "code",
   "execution_count": 10,
   "metadata": {},
   "outputs": [
    {
     "data": {
      "text/plain": [
       "['Department',\n",
       " 'of',\n",
       " 'Computer',\n",
       " 'Science',\n",
       " 'and',\n",
       " 'Engineering',\n",
       " 'of',\n",
       " 'NUB',\n",
       " ',',\n",
       " 'started',\n",
       " 'its',\n",
       " 'academic',\n",
       " 'activities',\n",
       " 'from',\n",
       " 'September',\n",
       " '26',\n",
       " ',',\n",
       " '1999',\n",
       " 'with',\n",
       " 'the',\n",
       " 'aim',\n",
       " 'of',\n",
       " 'quality',\n",
       " 'education',\n",
       " 'as',\n",
       " 'well',\n",
       " 'as',\n",
       " 'cutting',\n",
       " 'edge',\n",
       " 'researches',\n",
       " 'in',\n",
       " 'the',\n",
       " 'branches',\n",
       " 'of',\n",
       " 'Computer',\n",
       " 'Science',\n",
       " 'and',\n",
       " 'Engineering',\n",
       " '.',\n",
       " 'The',\n",
       " 'department',\n",
       " 'regularly',\n",
       " 'offers',\n",
       " 'postgraduate',\n",
       " '(',\n",
       " 'M.Sc',\n",
       " '.',\n",
       " 'and',\n",
       " 'Ph.D.',\n",
       " ')',\n",
       " 'and',\n",
       " 'undergraduate',\n",
       " '(',\n",
       " 'B.Sc',\n",
       " '.',\n",
       " ')',\n",
       " 'programs',\n",
       " '.',\n",
       " 'Only',\n",
       " 'top',\n",
       " 'ranked',\n",
       " 'brilliant',\n",
       " 'students',\n",
       " 'are',\n",
       " 'enrolled',\n",
       " 'in',\n",
       " 'this',\n",
       " 'department',\n",
       " 'through',\n",
       " 'a',\n",
       " 'competitive',\n",
       " 'admission',\n",
       " 'test',\n",
       " '.',\n",
       " 'At',\n",
       " 'present',\n",
       " ',',\n",
       " 'yearly',\n",
       " 'intake',\n",
       " 'of',\n",
       " 'this',\n",
       " 'department',\n",
       " 'is',\n",
       " 'around',\n",
       " '160',\n",
       " 'including',\n",
       " '120',\n",
       " 'fixed',\n",
       " 'undergraduate',\n",
       " 'intakes',\n",
       " '.',\n",
       " 'The',\n",
       " 'department',\n",
       " 'has',\n",
       " 'well',\n",
       " 'equipped',\n",
       " 'different',\n",
       " 'laboratories',\n",
       " 'and',\n",
       " 'a',\n",
       " 'System',\n",
       " 'Development',\n",
       " 'Centre',\n",
       " 'to',\n",
       " 'increase',\n",
       " 'the',\n",
       " 'expertise',\n",
       " 'of',\n",
       " 'students',\n",
       " 'practically',\n",
       " 'along',\n",
       " 'with',\n",
       " 'theoretical',\n",
       " 'knowledge',\n",
       " '.']"
      ]
     },
     "execution_count": 10,
     "metadata": {},
     "output_type": "execute_result"
    }
   ],
   "source": [
    "from nltk.tokenize import word_tokenize\n",
    "tokenized_word=word_tokenize(text)\n",
    "word_tokenize(text)"
   ]
  },
  {
   "cell_type": "markdown",
   "metadata": {},
   "source": [
    "# White Spcae Tokenizer"
   ]
  },
  {
   "cell_type": "code",
   "execution_count": 11,
   "metadata": {},
   "outputs": [
    {
     "data": {
      "text/plain": [
       "['Department',\n",
       " 'of',\n",
       " 'Computer',\n",
       " 'Science',\n",
       " 'and',\n",
       " 'Engineering',\n",
       " 'of',\n",
       " 'NUB,',\n",
       " 'started',\n",
       " 'its',\n",
       " 'academic',\n",
       " 'activities',\n",
       " 'from',\n",
       " 'September',\n",
       " '26,',\n",
       " '1999',\n",
       " 'with',\n",
       " 'the',\n",
       " 'aim',\n",
       " 'of',\n",
       " 'quality',\n",
       " 'education',\n",
       " 'as',\n",
       " 'well',\n",
       " 'as',\n",
       " 'cutting',\n",
       " 'edge',\n",
       " 'researches',\n",
       " 'in',\n",
       " 'the',\n",
       " 'branches',\n",
       " 'of',\n",
       " 'Computer',\n",
       " 'Science',\n",
       " 'and',\n",
       " 'Engineering.',\n",
       " 'The',\n",
       " 'department',\n",
       " 'regularly',\n",
       " 'offers',\n",
       " 'postgraduate',\n",
       " '(M.Sc.',\n",
       " 'and',\n",
       " 'Ph.D.)',\n",
       " 'and',\n",
       " 'undergraduate',\n",
       " '(B.Sc.)',\n",
       " 'programs.',\n",
       " 'Only',\n",
       " 'top',\n",
       " 'ranked',\n",
       " 'brilliant',\n",
       " 'students',\n",
       " 'are',\n",
       " 'enrolled',\n",
       " 'in',\n",
       " 'this',\n",
       " 'department',\n",
       " 'through',\n",
       " 'a',\n",
       " 'competitive',\n",
       " 'admission',\n",
       " 'test.',\n",
       " 'At',\n",
       " 'present,',\n",
       " 'yearly',\n",
       " 'intake',\n",
       " 'of',\n",
       " 'this',\n",
       " 'department',\n",
       " 'is',\n",
       " 'around',\n",
       " '160',\n",
       " 'including',\n",
       " '120',\n",
       " 'fixed',\n",
       " 'undergraduate',\n",
       " 'intakes.',\n",
       " 'The',\n",
       " 'department',\n",
       " 'has',\n",
       " 'well',\n",
       " 'equipped',\n",
       " 'different',\n",
       " 'laboratories',\n",
       " 'and',\n",
       " 'a',\n",
       " 'System',\n",
       " 'Development',\n",
       " 'Centre',\n",
       " 'to',\n",
       " 'increase',\n",
       " 'the',\n",
       " 'expertise',\n",
       " 'of',\n",
       " 'students',\n",
       " 'practically',\n",
       " 'along',\n",
       " 'with',\n",
       " 'theoretical',\n",
       " 'knowledge.']"
      ]
     },
     "execution_count": 11,
     "metadata": {},
     "output_type": "execute_result"
    }
   ],
   "source": [
    "from nltk.tokenize import WhitespaceTokenizer\n",
    "WhitespaceTokenizer().tokenize(text)"
   ]
  },
  {
   "cell_type": "markdown",
   "metadata": {},
   "source": [
    "# Word Punct Tokenize"
   ]
  },
  {
   "cell_type": "code",
   "execution_count": 12,
   "metadata": {},
   "outputs": [
    {
     "data": {
      "text/plain": [
       "['Department',\n",
       " 'of',\n",
       " 'Computer',\n",
       " 'Science',\n",
       " 'and',\n",
       " 'Engineering',\n",
       " 'of',\n",
       " 'NUB',\n",
       " ',',\n",
       " 'started',\n",
       " 'its',\n",
       " 'academic',\n",
       " 'activities',\n",
       " 'from',\n",
       " 'September',\n",
       " '26',\n",
       " ',',\n",
       " '1999',\n",
       " 'with',\n",
       " 'the',\n",
       " 'aim',\n",
       " 'of',\n",
       " 'quality',\n",
       " 'education',\n",
       " 'as',\n",
       " 'well',\n",
       " 'as',\n",
       " 'cutting',\n",
       " 'edge',\n",
       " 'researches',\n",
       " 'in',\n",
       " 'the',\n",
       " 'branches',\n",
       " 'of',\n",
       " 'Computer',\n",
       " 'Science',\n",
       " 'and',\n",
       " 'Engineering',\n",
       " '.',\n",
       " 'The',\n",
       " 'department',\n",
       " 'regularly',\n",
       " 'offers',\n",
       " 'postgraduate',\n",
       " '(',\n",
       " 'M',\n",
       " '.',\n",
       " 'Sc',\n",
       " '.',\n",
       " 'and',\n",
       " 'Ph',\n",
       " '.',\n",
       " 'D',\n",
       " '.)',\n",
       " 'and',\n",
       " 'undergraduate',\n",
       " '(',\n",
       " 'B',\n",
       " '.',\n",
       " 'Sc',\n",
       " '.)',\n",
       " 'programs',\n",
       " '.',\n",
       " 'Only',\n",
       " 'top',\n",
       " 'ranked',\n",
       " 'brilliant',\n",
       " 'students',\n",
       " 'are',\n",
       " 'enrolled',\n",
       " 'in',\n",
       " 'this',\n",
       " 'department',\n",
       " 'through',\n",
       " 'a',\n",
       " 'competitive',\n",
       " 'admission',\n",
       " 'test',\n",
       " '.',\n",
       " 'At',\n",
       " 'present',\n",
       " ',',\n",
       " 'yearly',\n",
       " 'intake',\n",
       " 'of',\n",
       " 'this',\n",
       " 'department',\n",
       " 'is',\n",
       " 'around',\n",
       " '160',\n",
       " 'including',\n",
       " '120',\n",
       " 'fixed',\n",
       " 'undergraduate',\n",
       " 'intakes',\n",
       " '.',\n",
       " 'The',\n",
       " 'department',\n",
       " 'has',\n",
       " 'well',\n",
       " 'equipped',\n",
       " 'different',\n",
       " 'laboratories',\n",
       " 'and',\n",
       " 'a',\n",
       " 'System',\n",
       " 'Development',\n",
       " 'Centre',\n",
       " 'to',\n",
       " 'increase',\n",
       " 'the',\n",
       " 'expertise',\n",
       " 'of',\n",
       " 'students',\n",
       " 'practically',\n",
       " 'along',\n",
       " 'with',\n",
       " 'theoretical',\n",
       " 'knowledge',\n",
       " '.']"
      ]
     },
     "execution_count": 12,
     "metadata": {},
     "output_type": "execute_result"
    }
   ],
   "source": [
    "from nltk.tokenize import wordpunct_tokenize\n",
    "wordpunct_tokenize(text)"
   ]
  },
  {
   "cell_type": "markdown",
   "metadata": {},
   "source": [
    "# Frequency Distribution"
   ]
  },
  {
   "cell_type": "code",
   "execution_count": 13,
   "metadata": {},
   "outputs": [
    {
     "name": "stdout",
     "output_type": "stream",
     "text": [
      "<FreqDist with 79 samples and 115 outcomes>\n"
     ]
    }
   ],
   "source": [
    "from nltk.probability import FreqDist\n",
    "fdist=FreqDist(tokenized_word)\n",
    "print(fdist)"
   ]
  },
  {
   "cell_type": "code",
   "execution_count": 14,
   "metadata": {},
   "outputs": [
    {
     "data": {
      "text/plain": [
       "[('.', 7),\n",
       " ('of', 6),\n",
       " ('and', 5),\n",
       " ('department', 4),\n",
       " (',', 3),\n",
       " ('the', 3),\n",
       " ('Computer', 2),\n",
       " ('Science', 2),\n",
       " ('Engineering', 2),\n",
       " ('with', 2),\n",
       " ('as', 2),\n",
       " ('well', 2),\n",
       " ('in', 2),\n",
       " ('The', 2),\n",
       " ('(', 2),\n",
       " (')', 2),\n",
       " ('undergraduate', 2),\n",
       " ('students', 2),\n",
       " ('this', 2),\n",
       " ('a', 2),\n",
       " ('Department', 1),\n",
       " ('NUB', 1),\n",
       " ('started', 1),\n",
       " ('its', 1),\n",
       " ('academic', 1),\n",
       " ('activities', 1),\n",
       " ('from', 1),\n",
       " ('September', 1),\n",
       " ('26', 1),\n",
       " ('1999', 1),\n",
       " ('aim', 1),\n",
       " ('quality', 1),\n",
       " ('education', 1),\n",
       " ('cutting', 1),\n",
       " ('edge', 1),\n",
       " ('researches', 1),\n",
       " ('branches', 1),\n",
       " ('regularly', 1),\n",
       " ('offers', 1),\n",
       " ('postgraduate', 1),\n",
       " ('M.Sc', 1),\n",
       " ('Ph.D.', 1),\n",
       " ('B.Sc', 1),\n",
       " ('programs', 1),\n",
       " ('Only', 1),\n",
       " ('top', 1),\n",
       " ('ranked', 1),\n",
       " ('brilliant', 1),\n",
       " ('are', 1),\n",
       " ('enrolled', 1),\n",
       " ('through', 1),\n",
       " ('competitive', 1),\n",
       " ('admission', 1),\n",
       " ('test', 1),\n",
       " ('At', 1),\n",
       " ('present', 1),\n",
       " ('yearly', 1),\n",
       " ('intake', 1),\n",
       " ('is', 1),\n",
       " ('around', 1),\n",
       " ('160', 1),\n",
       " ('including', 1),\n",
       " ('120', 1),\n",
       " ('fixed', 1),\n",
       " ('intakes', 1),\n",
       " ('has', 1),\n",
       " ('equipped', 1),\n",
       " ('different', 1),\n",
       " ('laboratories', 1),\n",
       " ('System', 1),\n",
       " ('Development', 1),\n",
       " ('Centre', 1),\n",
       " ('to', 1),\n",
       " ('increase', 1),\n",
       " ('expertise', 1),\n",
       " ('practically', 1),\n",
       " ('along', 1),\n",
       " ('theoretical', 1),\n",
       " ('knowledge', 1)]"
      ]
     },
     "execution_count": 14,
     "metadata": {},
     "output_type": "execute_result"
    }
   ],
   "source": [
    "fdist.most_common()"
   ]
  },
  {
   "cell_type": "code",
   "execution_count": 15,
   "metadata": {},
   "outputs": [
    {
     "data": {
      "text/plain": [
       "[('.', 7), ('of', 6)]"
      ]
     },
     "execution_count": 15,
     "metadata": {},
     "output_type": "execute_result"
    }
   ],
   "source": [
    "fdist.most_common(2)"
   ]
  },
  {
   "cell_type": "code",
   "execution_count": 16,
   "metadata": {},
   "outputs": [
    {
     "data": {
      "text/plain": [
       "[('.', 7),\n",
       " ('of', 6),\n",
       " ('and', 5),\n",
       " ('department', 4),\n",
       " (',', 3),\n",
       " ('the', 3),\n",
       " ('Computer', 2),\n",
       " ('Science', 2),\n",
       " ('Engineering', 2),\n",
       " ('with', 2)]"
      ]
     },
     "execution_count": 16,
     "metadata": {},
     "output_type": "execute_result"
    }
   ],
   "source": [
    "fdist.most_common(10)"
   ]
  },
  {
   "cell_type": "markdown",
   "metadata": {},
   "source": [
    "# Plot Frequency Distribution"
   ]
  },
  {
   "cell_type": "code",
   "execution_count": 17,
   "metadata": {},
   "outputs": [],
   "source": [
    "import matplotlib.pyplot as plt"
   ]
  },
  {
   "cell_type": "code",
   "execution_count": 18,
   "metadata": {},
   "outputs": [
    {
     "data": {
      "image/png": "[encoded data removed]",
      "text/plain": [
       "<Figure size 432x288 with 1 Axes>"
      ]
     },
     "metadata": {
      "needs_background": "light"
     },
     "output_type": "display_data"
    }
   ],
   "source": [
    "fdist.plot(30,cumulative=False)\n",
    "plt.show()"
   ]
  },
  {
   "cell_type": "code",
   "execution_count": null,
   "metadata": {},
   "outputs": [],
   "source": [
    "fdist.plot(10,cumulative=False)\n",
    "plt.show()"
   ]
  }
 ],
 "metadata": {
  "kernelspec": {
   "display_name": "Python 3",
   "language": "python",
   "name": "python3"
  },
  "language_info": {
   "codemirror_mode": {
    "name": "ipython",
    "version": 3
   },
   "file_extension": ".py",
   "mimetype": "text/x-python",
   "name": "python",
   "nbconvert_exporter": "python",
   "pygments_lexer": "ipython3",
   "version": "3.7.3"
  }
 },
 "nbformat": 4,
 "nbformat_minor": 2
}
