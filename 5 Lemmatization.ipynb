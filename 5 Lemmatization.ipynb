{
 "cells": [
  {
   "cell_type": "markdown",
   "metadata": {},
   "source": [
    "# Lemmatization\n",
    "Lemmatization reduces words to their base word, which is linguistically correct lemmas. It transforms root word with the use of vocabulary and morphological analysis.\n",
    "\n",
    "Lemmatization: Finding the same root\n",
    "\n",
    "+ Input : (Sings, Sung, Sang)\n",
    "+ Output : Sing\n",
    "\n",
    "[https://wordnet.princeton.edu/](https://wordnet.princeton.edu/)"
   ]
  },
  {
   "cell_type": "code",
   "execution_count": 2,
   "metadata": {},
   "outputs": [
    {
     "name": "stderr",
     "output_type": "stream",
     "text": [
      "[nltk_data] Downloading package wordnet to\n",
      "[nltk_data]     /home/uzzal/snap/jupyter/6/nltk_data...\n"
     ]
    },
    {
     "data": {
      "text/plain": [
       "True"
      ]
     },
     "execution_count": 2,
     "metadata": {},
     "output_type": "execute_result"
    }
   ],
   "source": [
    "import nltk\n",
    "import ssl\n",
    "ssl._create_default_https_context = ssl._create_unverified_context\n",
    "nltk.download('wordnet')"
   ]
  },
  {
   "cell_type": "code",
   "execution_count": 4,
   "metadata": {},
   "outputs": [],
   "source": [
    "from nltk.stem.wordnet import WordNetLemmatizer\n",
    "lemmatizer=WordNetLemmatizer()"
   ]
  },
  {
   "cell_type": "markdown",
   "metadata": {},
   "source": [
    "# Remove the s or es and finding the root"
   ]
  },
  {
   "cell_type": "code",
   "execution_count": 5,
   "metadata": {},
   "outputs": [
    {
     "name": "stdout",
     "output_type": "stream",
     "text": [
      "rocks : rock\n",
      "bues : bus\n",
      "students : student\n",
      "computers : computer\n",
      "goes : go\n",
      "languages : language\n"
     ]
    }
   ],
   "source": [
    "print(\"rocks :\", lemmatizer.lemmatize(\"rocks\"))\n",
    "print(\"bues :\", lemmatizer.lemmatize(\"buses\"))\n",
    "print(\"students :\", lemmatizer.lemmatize(\"students\"))\n",
    "print(\"computers :\", lemmatizer.lemmatize(\"computers\"))\n",
    "print(\"goes :\", lemmatizer.lemmatize(\"goes\"))\n",
    "print(\"languages :\", lemmatizer.lemmatize(\"languages\"))"
   ]
  },
  {
   "cell_type": "markdown",
   "metadata": {},
   "source": [
    "# Lematize the verb with arguments"
   ]
  },
  {
   "cell_type": "code",
   "execution_count": 6,
   "metadata": {},
   "outputs": [
    {
     "name": "stdout",
     "output_type": "stream",
     "text": [
      "Lemmatization : flying ->  fly\n"
     ]
    }
   ],
   "source": [
    "word=\"flying\"\n",
    "print(\"Lemmatization : \"+word+\" -> \",lemmatizer.lemmatize(word,'v'))"
   ]
  },
  {
   "cell_type": "code",
   "execution_count": 7,
   "metadata": {},
   "outputs": [
    {
     "name": "stdout",
     "output_type": "stream",
     "text": [
      "Lemmatization : swiming ->  swim\n"
     ]
    }
   ],
   "source": [
    "word=\"swiming\"\n",
    "print(\"Lemmatization : \"+word+\" -> \",lemmatizer.lemmatize(word,'v'))"
   ]
  },
  {
   "cell_type": "code",
   "execution_count": 8,
   "metadata": {},
   "outputs": [
    {
     "name": "stdout",
     "output_type": "stream",
     "text": [
      "Lemmatization : educated ->  educate\n"
     ]
    }
   ],
   "source": [
    "word=\"educated\"\n",
    "print(\"Lemmatization : \"+word+\" -> \",lemmatizer.lemmatize(word,'v'))"
   ]
  },
  {
   "cell_type": "code",
   "execution_count": 9,
   "metadata": {},
   "outputs": [
    {
     "name": "stdout",
     "output_type": "stream",
     "text": [
      "Lemmatization : had ->  have\n"
     ]
    }
   ],
   "source": [
    "word=\"had\"\n",
    "print(\"Lemmatization : \"+word+\" -> \",lemmatizer.lemmatize(word,'v'))"
   ]
  },
  {
   "cell_type": "markdown",
   "metadata": {},
   "source": [
    "# Lematize the adjective with arguments"
   ]
  },
  {
   "cell_type": "code",
   "execution_count": 10,
   "metadata": {},
   "outputs": [
    {
     "name": "stdout",
     "output_type": "stream",
     "text": [
      "Lemmatization : better ->  good\n"
     ]
    }
   ],
   "source": [
    "# good -> better -> best\n",
    "word=\"better\"\n",
    "print(\"Lemmatization : \"+word+\" -> \",lemmatizer.lemmatize(word,'a'))"
   ]
  },
  {
   "cell_type": "code",
   "execution_count": 11,
   "metadata": {},
   "outputs": [
    {
     "name": "stdout",
     "output_type": "stream",
     "text": [
      "Lemmatization : worst ->  bad\n"
     ]
    }
   ],
   "source": [
    "word=\"worst\"\n",
    "print(\"Lemmatization : \"+word+\" -> \",lemmatizer.lemmatize(word,'a'))"
   ]
  },
  {
   "cell_type": "code",
   "execution_count": 12,
   "metadata": {},
   "outputs": [
    {
     "name": "stdout",
     "output_type": "stream",
     "text": [
      "Lemmatization : taller ->  tall\n"
     ]
    }
   ],
   "source": [
    "# tall -> taller -> tallest\n",
    "word=\"taller\"\n",
    "print(\"Lemmatization : \"+word+\" -> \",lemmatizer.lemmatize(word,'a'))"
   ]
  }
 ],
 "metadata": {
  "kernelspec": {
   "display_name": "Python 3",
   "language": "python",
   "name": "python3"
  },
  "language_info": {
   "codemirror_mode": {
    "name": "ipython",
    "version": 3
   },
   "file_extension": ".py",
   "mimetype": "text/x-python",
   "name": "python",
   "nbconvert_exporter": "python",
   "pygments_lexer": "ipython3",
   "version": "3.7.3"
  }
 },
 "nbformat": 4,
 "nbformat_minor": 2
}
